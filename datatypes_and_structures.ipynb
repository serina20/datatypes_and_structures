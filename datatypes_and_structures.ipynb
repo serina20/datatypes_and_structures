{
  "nbformat": 4,
  "nbformat_minor": 0,
  "metadata": {
    "colab": {
      "provenance": []
    },
    "kernelspec": {
      "name": "python3",
      "display_name": "Python 3"
    },
    "language_info": {
      "name": "python"
    }
  },
  "cells": [
    {
      "cell_type": "markdown",
      "source": [
        "# Data Types and Structures\n",
        "\n",
        "1. What are data structures, and why are they important?\n",
        "-> Data structures are specialized formats for organizing, processing, retrieving, and storing data in a computer. They are essential for efficiency, scalability, organization, and general problem solving. Python's main built in data structures are:\n",
        "- lists\n",
        "- tuples\n",
        "- dictionaries\n",
        "- sets.\n",
        "\n",
        "\n",
        "2. Explain the difference between mutable and immutable data types with examples?\n",
        "-> Mutable data types refer to those data types whose state or content can be changed after being created. Lists, sets, and dictionaries are examples of mutable data structure. Immutable data types refer to those data structures whose state or content cannot be changed after being created. Strings adn tuples are examples of immutable data structures.\n",
        "\n",
        "\n",
        "3. What are the main differences between lists and tuples in Python?\n",
        "-> Main differences between lists and tuples are:\n",
        "-  Lists and mutable while tuples are immutable.\n",
        "- Lists are defined using square brackets []. Tuples are defined using parenthesis().\n",
        "- Lists are used when there is a possibilty of a change in the content. Tuples are used when the contents need to be constant.\n",
        "\n",
        "\n",
        "4. Describe how dictionaries store data?\n",
        "-> Dictionaries store data as unique key-value pairs using a hash table. Each key is hashed to quickly determine where its corresponding value is stored in memory, allowing for very fast lookups. Keys must be immutable.\n",
        "\n",
        "\n",
        "5. Why might you use a set instead of a list in Python?\n",
        "-> Using a set instead of a list in Python offers several advantages, primarily due to the fundamental differences in how they store and manage data. Key reasons you might use a set instead of a list are:\n",
        "- Sets enforces uniqueness. That is if you add an element that already exists in the set, it will ignore the new addition. while in lists there is no uniqueness, you can add same elements number of times. This feature is essential when you want the elements to be distict like when storing a list of user IDs.\n",
        "- Sets also provide built-in methods for common mathematical set operations like union, intersection, difference, and symmetric difference. Whereas lists does not offer any such methods and performing operations on a list is less efficient and complex.\n",
        "\n",
        "\n",
        "6. What is a string in Python, and how is it different from a list?\n",
        "-> A string is essentially an ordered collection of characters. These characters can include letters, numbers, symbols, and whitespace.\n",
        "- Examples: \"hello\", \"PWSkills\", \"12345\", \" \".\n",
        "A string is differnt from a list because strings are immutable that is the state and contents of it cannot be changed once createdm whereas lists are mutable.\n",
        "\n",
        "\n",
        "7. How do tuples ensure data integrity in Python?\n",
        "-> Tuples in Python ensure data integrity primarily through their immutability which is their defining characteristic. This characteristic avoids unintended changes and maintain data consistency.\n",
        "\n",
        "\n",
        "8. What is a hash table, and how does it relate to dictionaries in Python?\n",
        "-> A hash table is a data structure that stores key-value pairs using a hash function to quickly map keys to storage locations. Python's dictionaries (dict) are implemented as hash tables, which is why they offer highly efficient lookup, insertion, and deletion of items based on their keys.\n",
        "\n",
        "\n",
        "9. Can lists contain different data types in Python?\n",
        "-> Yes, list ca contain different data types.\n",
        "\n",
        "\n",
        "10. Explain why strings are immutable in Python?\n",
        "-> Strings are immutable in Python for:\n",
        "- Preventing accidental changes, making code more reliable.\n",
        "- Multiple threads can safely access strings without corruption.\n",
        "- Allows strings to be used as dictionary keys and set elements (needed for efficient lookups).\n",
        "- Enables optimizations like string interning and cached hash values.\n",
        "- Any \"modification\" of a string actually creates a new string.\n",
        "\n",
        "\n",
        "11. What advantages do dictionaries offer over lists for certain tasks?\n",
        "-> Some of the advantages dictionaries offer over lists are:\n",
        "- Instead of relying on numerical positions (like list[0]), dictionaries let you access data using a descriptive key (e.g., student['name']). This makes code more readable and self-documenting.\n",
        "-  Dictionaries use hashing to find items almost instantly, regardless of size. Lists require scanning, becoming slow (O(n)) for large collections when searching by value.\n",
        "-  They excel at representing structured data like records (e.g., a person's attributes: {'name': 'Alice', 'age': 30, 'city': 'Pune'}), making your data's meaning explicit.\n",
        "- Keys in a dictionary must be unique, inherently preventing duplicate identifiers for stored values, which is often a desired property when mapping information.\n",
        "\n",
        "\n",
        "12. Describe a scenario where using a tuple would be preferable over a list?\n",
        "-> Example: A function that calculates both the quotient and remainder of a division.\n",
        "Reason: The quotient and remainder are fixed results for a given a and b. They are inherently unchangeable, and packaging them in an immutable tuple ensures this fixed relationship and prevents accidental modification of individual results after the function returns.\n",
        "\n",
        "\n",
        "13. How do sets handle duplicate values in Python?\n",
        "-> Sets handle duplicate values by **automatically discarding them**. Whether you create a set from existing data or try to add duplicates later, only **one unique instance** of each element is ever stored.\n",
        "\n",
        "\n",
        "14. How does the “in” keyword work differently for lists and dictionaries?\n",
        "-> In lists: it checks if a specific value (element) exists within the list.\n",
        "In dictionaries: it checks if a specific key exists within the dictionary. It does not directly check for values.\n",
        "\n",
        "\n",
        "15. Can you modify the elements of a tuple? Explain why or why not?\n",
        "-> No, you cannot directly modify the elements of a tuple. This is because tuples are immutable data structures that means you cannot chnage the state or content of it once created. If you wish to modify any element yoou have to create a new tuple altogether.\n",
        "\n",
        "\n",
        "16. What is a nested dictionary, and give an example of its use case?\n",
        "-> A nested dictionary is a dictionary where the value associated with a key is another dictionary. This allows you to create hierarchical or multi-level data structures, effectively representing relationships between different pieces of information.\n",
        "Example Use Case: Storing Student Data with Courses and Grades.\n",
        "Imagine you want to store information for multiple students, and for each student, you need to keep track of their courses and the grades they received in each course.\n",
        "\n",
        "\n",
        "17. Describe the time complexity of accessing elements in a dictionary?\n",
        "-> The time complexity of accessing elements in a dictionary is:\n",
        "Average Case: O(1) (Constant Time) - Very fast, direct lookup via hashing.\n",
        "Worst Case: O(n) (Linear Time) - Rare, occurs with extreme hash collisions.\n",
        "\n",
        "\n",
        "18. In what situations are lists preferred over dictionaries?\n",
        "-> Lists are preferred over dictionaries in situations where:\n",
        "- When the sequence or position of items is important and needs to be maintained (e.g., a list of steps in a process, a history of events).\n",
        "- When you need to access elements primarily by their integer position (e.g., my_list[0], my_list[5]).\n",
        "- When you have a collection of items that don't inherently have unique, descriptive names, but rather just belong together in a sequence.\n",
        "- When you need to store multiple identical items (dictionaries only store unique keys).\n",
        "- While lists can hold different types, they are frequently used for collections of items of the same type.\n",
        "\n",
        "\n",
        "19. Why are dictionaries considered unordered, and how does that affect data?retrieval3\n",
        "-> Dictionaries are conceptually considered unordered because their fundamental design (as hash tables) prioritizes fast key-based lookups over maintaining any specific element sequence.\n",
        "- Affect on retrieval:\n",
        "Direct access by key is unaffected: It remains O(1) average (very fast) because hashing goes straight to the location, regardless of order.\n",
        "\n",
        "\n",
        "20. Explain the difference between a list and a dictionary in terms of data retrieval.\n",
        "-> For a list:\n",
        "- Retrieval Method: You retrieve data by its numerical index (position). You specify the item's location in the sequence (e.g., my_list[0], my_list[5]).\n",
        "- Time Complexity: O(n) (linear time)- the time taken grows proportionally with the size of the list in the worst case, as you might have to check every element.\n",
        "For dictionaries:\n",
        "- Retrieval Method: You retrieve data by its unique key (label). You specify the descriptive name associated with the value (e.g., my_dict['name'], my_dict['product_id']).\n",
        "- Time Complexity: O(1) on average (constant time)- the time taken is almost instantaneous and doesn't significantly increase with the size of the dictionary, as the hash function directly points to the data's location."
      ],
      "metadata": {
        "id": "78-z4Ech4a_Z"
      }
    },
    {
      "cell_type": "code",
      "source": [
        "# 1. Write a code to create a string with your name and print it.\n",
        "\n",
        "name = \"serina\"\n",
        "print(f\"my name is:\", name)\n"
      ],
      "metadata": {
        "colab": {
          "base_uri": "https://localhost:8080/"
        },
        "id": "oZ70JPIaX0BR",
        "outputId": "da4e460d-6511-4d7e-b174-5f8edf93c9ac"
      },
      "execution_count": 6,
      "outputs": [
        {
          "output_type": "stream",
          "name": "stdout",
          "text": [
            "my name is: serina\n"
          ]
        }
      ]
    },
    {
      "cell_type": "code",
      "source": [
        "#2. Write a code to find the length of the string \"Hello World\"\n",
        "\n",
        "my_string = \"Hello World\"\n",
        "print(\"orignal string: \", my_string)\n",
        "print(\"length of the string: \", len(my_string))\n"
      ],
      "metadata": {
        "colab": {
          "base_uri": "https://localhost:8080/"
        },
        "id": "57Q6xrK8YpqV",
        "outputId": "72ec32e5-7bef-483a-f946-981654395b2f"
      },
      "execution_count": 23,
      "outputs": [
        {
          "output_type": "stream",
          "name": "stdout",
          "text": [
            "orignal string:  Hello World\n",
            "length of the string:  11\n"
          ]
        }
      ]
    },
    {
      "cell_type": "code",
      "source": [
        "# 3. Write a code to slice the first 3 characters from the string \"Python Programming\"\n",
        "\n",
        "my_string = \"Python Programming\"\n",
        "print(\"orignal string: \", my_string)\n",
        "print(\"string after slicing: \", my_string[0:3])"
      ],
      "metadata": {
        "colab": {
          "base_uri": "https://localhost:8080/"
        },
        "id": "WXivn7jbZK6p",
        "outputId": "712e7334-6faa-4263-edab-65ccc0f8623d"
      },
      "execution_count": 25,
      "outputs": [
        {
          "output_type": "stream",
          "name": "stdout",
          "text": [
            "orignal string:  Python Programming\n",
            "string after slicing:  Pyt\n"
          ]
        }
      ]
    },
    {
      "cell_type": "code",
      "source": [
        "# 4. Write a code to convert the string \"hello\" to uppercase.\n",
        "\n",
        "my_string = \"hello\"\n",
        "print(\"orignal string: \", my_string)\n",
        "print(\"string in uppercase: \", my_string.upper())\n"
      ],
      "metadata": {
        "colab": {
          "base_uri": "https://localhost:8080/"
        },
        "id": "mOJOmeOaZfS-",
        "outputId": "eb9da202-06cf-4572-f5c5-cf693fdb82a5"
      },
      "execution_count": 28,
      "outputs": [
        {
          "output_type": "stream",
          "name": "stdout",
          "text": [
            "orignal string:  hello\n",
            "string in uppercase:  HELLO\n"
          ]
        }
      ]
    },
    {
      "cell_type": "code",
      "source": [
        "# 5. Write a code to replace the word \"apple\" with \"orange\" in the string \"I like apple\".\n",
        "\n",
        "my_string = \"I like apple\"\n",
        "print(\"orignal string: \", my_string)\n",
        "print(\"final string: \" , my_string.replace(\"apple\", \"orange\"))\n"
      ],
      "metadata": {
        "colab": {
          "base_uri": "https://localhost:8080/"
        },
        "id": "T45vvmdCZ7e-",
        "outputId": "df8fca82-b8fd-410f-9aa8-b9647bcb8f81"
      },
      "execution_count": 22,
      "outputs": [
        {
          "output_type": "stream",
          "name": "stdout",
          "text": [
            "orignal string:  I like apple\n",
            "final string:  I like orange\n"
          ]
        }
      ]
    },
    {
      "cell_type": "code",
      "source": [
        "# 6. Write a code to create a list with numbers 1 to 5 and print it.\n",
        "\n",
        "my_list = [1,2,3,4,5]\n",
        "print(\"the list is: \", my_list)\n"
      ],
      "metadata": {
        "colab": {
          "base_uri": "https://localhost:8080/"
        },
        "id": "nG0f7b9Oabb8",
        "outputId": "302776ed-d17a-4972-d4d5-220cc523e638"
      },
      "execution_count": 31,
      "outputs": [
        {
          "output_type": "stream",
          "name": "stdout",
          "text": [
            "the list is:  [1, 2, 3, 4, 5]\n"
          ]
        }
      ]
    },
    {
      "cell_type": "code",
      "source": [
        "# 7.  Write a code to append the number 10 to the list [1, 2, 3, 4]\n",
        "\n",
        "my_list = [1,2,3,4]\n",
        "print(\"orignal list: \", my_list)\n",
        "my_list.append(10)\n",
        "print(\"final list: \", my_list)\n"
      ],
      "metadata": {
        "colab": {
          "base_uri": "https://localhost:8080/"
        },
        "id": "zQVmROydbZnZ",
        "outputId": "2742c8eb-e58f-4d66-c315-38989a70e575"
      },
      "execution_count": 34,
      "outputs": [
        {
          "output_type": "stream",
          "name": "stdout",
          "text": [
            "orignal list:  [1, 2, 3, 4]\n",
            "final list:  [1, 2, 3, 4, 10]\n"
          ]
        }
      ]
    },
    {
      "cell_type": "code",
      "source": [
        "# 8. Write a code to remove the number 3 from the list [1, 2, 3, 4, 5]\n",
        "\n",
        "my_list = [1,2,3,4,5]\n",
        "print(\"orignal list: \", my_list)\n",
        "my_list.remove(3)\n",
        "print(\"final list: \", my_list)\n"
      ],
      "metadata": {
        "colab": {
          "base_uri": "https://localhost:8080/"
        },
        "id": "t-eW6vUcb4Hj",
        "outputId": "76d42dbe-6e22-4f69-aee9-92869e29e45a"
      },
      "execution_count": 38,
      "outputs": [
        {
          "output_type": "stream",
          "name": "stdout",
          "text": [
            "orignal list:  [1, 2, 3, 4, 5]\n",
            "final list:  [1, 2, 4, 5]\n"
          ]
        }
      ]
    },
    {
      "cell_type": "code",
      "source": [
        "# 9. Write a code to access the second element in the list ['a', 'b', 'c', 'd']\n",
        "\n",
        "my_list = [\"a\",\"b\",\"c\",\"d\"]\n",
        "print(\"orignal list: \", my_list)\n",
        "print(\"second element in the list: \", my_list[1])\n"
      ],
      "metadata": {
        "colab": {
          "base_uri": "https://localhost:8080/"
        },
        "id": "V_ErFHbTcSMC",
        "outputId": "c98232f9-4670-4cc7-95a9-1b98f8e373ab"
      },
      "execution_count": 42,
      "outputs": [
        {
          "output_type": "stream",
          "name": "stdout",
          "text": [
            "orignal list:  ['a', 'b', 'c', 'd']\n",
            "second element in the list:  b\n"
          ]
        }
      ]
    },
    {
      "cell_type": "code",
      "source": [
        "# 10. Write a code to reverse the list [10, 20, 30, 40, 50].\n",
        "\n",
        "my_list = [10,20,30,40,50]\n",
        "print(\"orignal list: \", my_list)\n",
        "print(\"reversed list: \", my_list[::-1])"
      ],
      "metadata": {
        "colab": {
          "base_uri": "https://localhost:8080/"
        },
        "id": "2sQxl3zIdZr2",
        "outputId": "0f9323f3-6f5e-4911-e759-9b16ccdadc3d"
      },
      "execution_count": 45,
      "outputs": [
        {
          "output_type": "stream",
          "name": "stdout",
          "text": [
            "orignal list:  [10, 20, 30, 40, 50]\n",
            "reversed list:  [50, 40, 30, 20, 10]\n"
          ]
        }
      ]
    },
    {
      "cell_type": "code",
      "source": [
        "# 11. Write a code to create a tuple with the elements 100, 200, 300 and print it.\n",
        "\n",
        "my_tuple = (100,200,300)\n",
        "print(\"the tuple is: \", my_tuple)"
      ],
      "metadata": {
        "colab": {
          "base_uri": "https://localhost:8080/"
        },
        "id": "7feRM3THdu0y",
        "outputId": "03123a79-e65d-470c-e57f-47a1790dfdf2"
      },
      "execution_count": 46,
      "outputs": [
        {
          "output_type": "stream",
          "name": "stdout",
          "text": [
            "the tuple is:  (100, 200, 300)\n"
          ]
        }
      ]
    },
    {
      "cell_type": "code",
      "source": [
        "# 12. Write a code to access the second-to-last element of the tuple ('red', 'green', 'blue', 'yellow').\n",
        "\n",
        "my_tuple = (\"red\", \"green\", \"blue\", \"yellow\")\n",
        "print(\"orignal tuple: \", my_tuple)\n",
        "print(\"second-to-last element of the tuple: \", my_tuple[-2])"
      ],
      "metadata": {
        "colab": {
          "base_uri": "https://localhost:8080/"
        },
        "id": "MfKFabbdeSGg",
        "outputId": "43c3b568-1372-4f51-b6c8-0947b16d4b86"
      },
      "execution_count": 47,
      "outputs": [
        {
          "output_type": "stream",
          "name": "stdout",
          "text": [
            "orignal tuple:  ('red', 'green', 'blue', 'yellow')\n",
            "second-to-last element of the tuple:  blue\n"
          ]
        }
      ]
    },
    {
      "cell_type": "code",
      "source": [
        "# 13. Write a code to find the minimum number in the tuple (10, 20, 5, 15).\n",
        "\n",
        "my_tuple = (10,20,5,15)\n",
        "print(\"orignal tuple: \", my_tuple)\n",
        "print(\"the minimum number in the tuple is: \", min(my_tuple))"
      ],
      "metadata": {
        "colab": {
          "base_uri": "https://localhost:8080/"
        },
        "id": "mGEbQjVlegWC",
        "outputId": "2ca4ff7d-4a83-40ef-9fce-d6d63e9c1be8"
      },
      "execution_count": 48,
      "outputs": [
        {
          "output_type": "stream",
          "name": "stdout",
          "text": [
            "orignal tuple:  (10, 20, 5, 15)\n",
            "the minimum number in the tuple is:  5\n"
          ]
        }
      ]
    },
    {
      "cell_type": "code",
      "source": [
        "# 14. Write a code to find the index of the element \"cat\" in the tuple ('dog', 'cat', 'rabbit').\n",
        "\n",
        "my_tuple = (\"dog\", \"cat\", \"rabbit\")\n",
        "print(\"orignal tuple: \", my_tuple)\n",
        "print(\"the index of cat in the tuple is: \", my_tuple.index(\"cat\"))"
      ],
      "metadata": {
        "colab": {
          "base_uri": "https://localhost:8080/"
        },
        "id": "lJErxDQme4Ri",
        "outputId": "11510561-3ce8-4717-b940-9c6fe27a99d6"
      },
      "execution_count": 52,
      "outputs": [
        {
          "output_type": "stream",
          "name": "stdout",
          "text": [
            "orignal tuple:  ('dog', 'cat', 'rabbit')\n",
            "the index of cat in the tuple is:  1\n"
          ]
        }
      ]
    },
    {
      "cell_type": "code",
      "source": [
        "# 15. Write a code to create a tuple containing three different fruits and check if \"kiwi\" is in it.\n",
        "\n",
        "my_tuple = (\"apple\", \"kiwi\", \"banana\", \"orange\")\n",
        "print(\"orignal tuple: \", my_tuple)\n",
        "print(\"kiwi\" in my_tuple)"
      ],
      "metadata": {
        "colab": {
          "base_uri": "https://localhost:8080/"
        },
        "id": "Gfh3gk8_fVIG",
        "outputId": "c20e0677-2360-4b0e-9369-b6ad9116820e"
      },
      "execution_count": 54,
      "outputs": [
        {
          "output_type": "stream",
          "name": "stdout",
          "text": [
            "orignal tuple:  ('apple', 'kiwi', 'banana', 'orange')\n",
            "True\n"
          ]
        }
      ]
    },
    {
      "cell_type": "code",
      "source": [
        "# 16. Write a code to create a set with the elements 'a', 'b', 'c' and print it.\n",
        "\n",
        "my_set = {\"a\", \"b\", \"c\"}\n",
        "print(\"the set is: \", my_set) # the output will be unordered as it is stored in a set which inheritly stores unordered elements"
      ],
      "metadata": {
        "colab": {
          "base_uri": "https://localhost:8080/"
        },
        "id": "g933fK1ifnqL",
        "outputId": "e3a11ad0-27f8-4189-d3a0-d8a119fb1195"
      },
      "execution_count": 56,
      "outputs": [
        {
          "output_type": "stream",
          "name": "stdout",
          "text": [
            "the set is:  {'b', 'c', 'a'}\n"
          ]
        }
      ]
    },
    {
      "cell_type": "code",
      "source": [
        "# 17. Write a code to clear all elements from the set {1, 2, 3, 4, 5}.\n",
        "\n",
        "my_set = {1,2,3,4,5}\n",
        "print(\"orignal set: \", my_set)\n",
        "my_set.clear()\n",
        "print(\"final set: \", my_set) # output will be en empty set"
      ],
      "metadata": {
        "colab": {
          "base_uri": "https://localhost:8080/"
        },
        "id": "hG201Xwsf6yl",
        "outputId": "5edac593-c4ed-4ab5-cd05-171458c03628"
      },
      "execution_count": 58,
      "outputs": [
        {
          "output_type": "stream",
          "name": "stdout",
          "text": [
            "orignal set:  {1, 2, 3, 4, 5}\n",
            "final set:  set()\n"
          ]
        }
      ]
    },
    {
      "cell_type": "code",
      "source": [
        "# 18. Write a code to remove the element 4 from the set {1, 2, 3, 4}.\n",
        "\n",
        "my_set = {1,2,3,4}\n",
        "print(\"orignal set: \", my_set)\n",
        "my_set.remove(2)\n",
        "print(\"after removing element 4 from the set: \",my_set )"
      ],
      "metadata": {
        "colab": {
          "base_uri": "https://localhost:8080/"
        },
        "id": "Ycz7HwVygpma",
        "outputId": "574a1fc0-f40d-4e7e-d931-91de45c0b59a"
      },
      "execution_count": 62,
      "outputs": [
        {
          "output_type": "stream",
          "name": "stdout",
          "text": [
            "orignal set:  {1, 2, 3, 4}\n",
            "after removing element 4 from the set:  {1, 3, 4}\n"
          ]
        }
      ]
    },
    {
      "cell_type": "code",
      "source": [
        "# 19. Write a code to find the union of two sets {1, 2, 3} and {3, 4, 5}.\n",
        "\n",
        "my_set1 = {1,2,3}\n",
        "my_set2 = {3,4,5}\n",
        "print(\"orignal set1: \", my_set1)\n",
        "print(\"orignal set2: \", my_set2)\n",
        "set_union = my_set1.union(my_set2)\n",
        "print(\"union of two sets: \", set_union)"
      ],
      "metadata": {
        "colab": {
          "base_uri": "https://localhost:8080/"
        },
        "id": "qBeE7e2AhHMz",
        "outputId": "d5df8cfa-5b4a-45e4-b109-dff0bade9a06"
      },
      "execution_count": 64,
      "outputs": [
        {
          "output_type": "stream",
          "name": "stdout",
          "text": [
            "orignal set1:  {1, 2, 3}\n",
            "orignal set2:  {3, 4, 5}\n",
            "union of two sets:  {1, 2, 3, 4, 5}\n"
          ]
        }
      ]
    },
    {
      "cell_type": "code",
      "source": [
        "# 20. Write a code to find the intersection of two sets {1, 2, 3} and {2, 3, 4}.\n",
        "\n",
        "my_set1 = {1,2,3}\n",
        "my_set2 = {2,3,4}\n",
        "print(\"orignal set1: \", my_set1)\n",
        "print(\"orignal set2: \", my_set2)\n",
        "set_intersection = my_set1.intersection(my_set2)\n",
        "print(\"intersection of two sets: \", set_intersection)"
      ],
      "metadata": {
        "colab": {
          "base_uri": "https://localhost:8080/"
        },
        "id": "II3KzxVFiPCC",
        "outputId": "ca17ef4d-f266-4a0c-fa7e-0f88016007ec"
      },
      "execution_count": 65,
      "outputs": [
        {
          "output_type": "stream",
          "name": "stdout",
          "text": [
            "orignal set1:  {1, 2, 3}\n",
            "orignal set2:  {2, 3, 4}\n",
            "intersection of two sets:  {2, 3}\n"
          ]
        }
      ]
    },
    {
      "cell_type": "code",
      "source": [
        "# 21. Write a code to create a dictionary with the keys \"name\", \"age\", and \"city\", and print it.\n",
        "\n",
        "my_dict = {\n",
        "    \"name\" : \"serina\",\n",
        "    \"age\" : 20,\n",
        "    \"city\" : \"pune\"\n",
        "}\n",
        "\n",
        "print(\"my dictionary is: \", my_dict )"
      ],
      "metadata": {
        "colab": {
          "base_uri": "https://localhost:8080/"
        },
        "id": "7jCHyc3hioQM",
        "outputId": "2d22cbcc-b97c-4aeb-f34c-2642fdc31ccd"
      },
      "execution_count": 67,
      "outputs": [
        {
          "output_type": "stream",
          "name": "stdout",
          "text": [
            "my dictionary is:  {'name': 'serina', 'age': 20, 'city': 'pune'}\n"
          ]
        }
      ]
    },
    {
      "cell_type": "code",
      "source": [
        "# 22. Write a code to add a new key-value pair \"country\": \"USA\" to the dictionary {'name': 'John', 'age': 25}.\n",
        "\n",
        "my_dict = {\n",
        "    \"name\" : \"John\",\n",
        "    \"age\" : 25\n",
        "}\n",
        "print(\"orignal dictionary: \", my_dict)\n",
        "my_dict[\"country\"] = \"USA\"\n",
        "print(\"final dictionary; \", my_dict)"
      ],
      "metadata": {
        "colab": {
          "base_uri": "https://localhost:8080/"
        },
        "id": "qxMoYmj8jMIL",
        "outputId": "e9ad7f70-c4b5-4978-bc0b-881b764221d8"
      },
      "execution_count": 70,
      "outputs": [
        {
          "output_type": "stream",
          "name": "stdout",
          "text": [
            "orignal dictionary:  {'name': 'John', 'age': 25}\n",
            "final dictionary;  {'name': 'John', 'age': 25, 'country': 'USA'}\n"
          ]
        }
      ]
    },
    {
      "cell_type": "code",
      "source": [
        "# 23. Write a code to access the value associated with the key \"name\" in the dictionary {'name': 'Alice', 'age': 30}.\n",
        "\n",
        "my_dict = {\n",
        "    \"name\" : \"Alice\",\n",
        "    \"age\" : 30\n",
        "}\n",
        "\n",
        "print(\"orignal dictionary: \", my_dict)\n",
        "print(\"value associated with the key 'name': \", my_dict[\"name\"])"
      ],
      "metadata": {
        "colab": {
          "base_uri": "https://localhost:8080/"
        },
        "id": "Yw5N7QRQj_eB",
        "outputId": "0d6f0cf5-4e6b-42ef-c785-9226f91aaa10"
      },
      "execution_count": 74,
      "outputs": [
        {
          "output_type": "stream",
          "name": "stdout",
          "text": [
            "orignal dictionary:  {'name': 'Alice', 'age': 30}\n",
            "value associated with the key 'name':  Alice\n"
          ]
        }
      ]
    },
    {
      "cell_type": "code",
      "source": [
        "# 24. Write a code to remove the key \"age\" from the dictionary {'name': 'Bob', 'age': 22, 'city': 'New York'}.\n",
        "\n",
        "my_dict = {\n",
        "    \"name\" : \"Bob\",\n",
        "    \"age\" : 22,\n",
        "    \"city\" : \"New York\"\n",
        "}\n",
        "\n",
        "print(\"orignal dictionary: \", my_dict)\n",
        "del my_dict[\"age\"]\n",
        "print(\"final dictionary: \", my_dict)\n"
      ],
      "metadata": {
        "colab": {
          "base_uri": "https://localhost:8080/"
        },
        "id": "qFaTAuIFkgnY",
        "outputId": "76deaf67-a4be-4d86-9ffc-d9923a15ef8c"
      },
      "execution_count": 75,
      "outputs": [
        {
          "output_type": "stream",
          "name": "stdout",
          "text": [
            "orignal dictionary:  {'name': 'Bob', 'age': 22, 'city': 'New York'}\n",
            "final dictionary:  {'name': 'Bob', 'city': 'New York'}\n"
          ]
        }
      ]
    },
    {
      "cell_type": "code",
      "source": [
        "# 25. Write a code to check if the key \"city\" exists in the dictionary {'name': 'Alice', 'city': 'Paris'}.\n",
        "\n",
        "my_dict = {\n",
        "    \"name\" : \"Alice\",\n",
        "    \"city\" : \"Paris\"\n",
        "}\n",
        "\n",
        "print(\"orignal dictionary: \", my_dict)\n",
        "print(\"city\" in my_dict)"
      ],
      "metadata": {
        "colab": {
          "base_uri": "https://localhost:8080/"
        },
        "id": "xWdlPyR7pydb",
        "outputId": "01bb2000-f00b-44d2-fabd-a8ef9ab04b72"
      },
      "execution_count": 76,
      "outputs": [
        {
          "output_type": "stream",
          "name": "stdout",
          "text": [
            "orignal dictionary:  {'name': 'Alice', 'city': 'Paris'}\n",
            "True\n"
          ]
        }
      ]
    },
    {
      "cell_type": "code",
      "source": [
        "# 26. Write a code to create a list, a tuple, and a dictionary, and print them all.\n",
        "\n",
        "my_list = [\"serina\", 20, \"pune\"]\n",
        "my_tuple = (\"serina\", 20, \"pune\")\n",
        "my_dict = {\n",
        "    \"name\" : \"serina\",\n",
        "    \"age\" : 20,\n",
        "    \"city\" : \"pune\"\n",
        "}\n",
        "\n",
        "print(\"the list is: \", my_list)\n",
        "print(\"the tuple is: \", my_tuple)\n",
        "print(\"the dictionary is: \", my_dict)"
      ],
      "metadata": {
        "colab": {
          "base_uri": "https://localhost:8080/"
        },
        "id": "8y-SzUN7qKT0",
        "outputId": "9a54c2ec-7119-4e71-a18d-69b6dff3c43c"
      },
      "execution_count": 77,
      "outputs": [
        {
          "output_type": "stream",
          "name": "stdout",
          "text": [
            "the list is:  ['serina', 20, 'pune']\n",
            "the tuple is:  ('serina', 20, 'pune')\n",
            "the dictionary is:  {'name': 'serina', 'age': 20, 'city': 'pune'}\n"
          ]
        }
      ]
    },
    {
      "cell_type": "code",
      "source": [
        "# 27. Write a code to create a list of 5 random numbers between 1 and 100, sort it in ascending order, and print the result.(replaced)\n",
        "\n",
        "\n",
        "import random\n",
        "\n",
        "random_numbers_copy = []\n",
        "for _ in range(5):\n",
        "  random_numbers_copy.append(random.randint(1, 100)) ## the random.randint(a, b) function returns a random integer N such that a <= N <= b.\n",
        "\n",
        "print(f\"Original list for sorted() demo: {random_numbers_copy}\")\n",
        "sorted_random_numbers = sorted(random_numbers_copy)\n",
        "print(f\"Sorted list (using sorted() function): {sorted_random_numbers}\")\n",
        "print(f\"Original list after sorted() function: {random_numbers_copy}\") # original remains unchanged\n",
        "\n",
        "\n"
      ],
      "metadata": {
        "colab": {
          "base_uri": "https://localhost:8080/"
        },
        "id": "VF9e6nHorEAd",
        "outputId": "86ac254e-60fe-467f-e62b-a6f9810a9dd3"
      },
      "execution_count": 79,
      "outputs": [
        {
          "output_type": "stream",
          "name": "stdout",
          "text": [
            "Original list for sorted() demo: [21, 85, 98, 5, 49]\n",
            "Sorted list (using sorted() function): [5, 21, 49, 85, 98]\n",
            "Original list after sorted() function: [21, 85, 98, 5, 49]\n"
          ]
        }
      ]
    },
    {
      "cell_type": "code",
      "source": [
        "# 28. Write a code to create a list with strings and print the element at the third index.\n",
        "\n",
        "my_list = [\"riya\", \"tiya\", \"hiya\", \"piya\"]\n",
        "print(\"orignal list: \", my_list)\n",
        "print(\"the element at the third index in the list is: \", my_list[2])"
      ],
      "metadata": {
        "colab": {
          "base_uri": "https://localhost:8080/"
        },
        "id": "6_WzbihfsCrF",
        "outputId": "1c313747-e328-4127-bc9c-b67b248042c4"
      },
      "execution_count": 81,
      "outputs": [
        {
          "output_type": "stream",
          "name": "stdout",
          "text": [
            "orignal list:  ['riya', 'tiya', 'hiya', 'piya']\n",
            "the element at the third index in the list is:  hiya\n"
          ]
        }
      ]
    },
    {
      "cell_type": "code",
      "source": [
        "# 29. Write a code to combine two dictionaries into one and print the result.\n",
        "\n",
        "my_dict1 = {\n",
        "    \"name\" : \"serina\",\n",
        "    \"age\" : 20,\n",
        "    \"city\" : \"pune\"\n",
        "}\n",
        "\n",
        "my_dict2 = {\n",
        "   \"password\" : \"thisismypassword\",\n",
        "   \"unique ID\" : 10002\n",
        "}\n",
        "\n",
        "merged_dict = {**my_dict1, **my_dict2}\n",
        "print(\"dictionary 1: \", my_dict1)\n",
        "print(\"dictionary 2: \", my_dict2)\n",
        "print(\"merged dictionary: \", merged_dict)"
      ],
      "metadata": {
        "colab": {
          "base_uri": "https://localhost:8080/"
        },
        "id": "ViiA0n2dtnoK",
        "outputId": "a143ceab-a3e9-4ab3-a293-4c0ed0d1ee6b"
      },
      "execution_count": 85,
      "outputs": [
        {
          "output_type": "stream",
          "name": "stdout",
          "text": [
            "dictionary 1:  {'name': 'serina', 'age': 20, 'city': 'pune'}\n",
            "dictionary 2:  {'password': 'thisismypassword', 'unique ID': 10002}\n",
            "merged dictionary:  {'name': 'serina', 'age': 20, 'city': 'pune', 'password': 'thisismypassword', 'unique ID': 10002}\n"
          ]
        }
      ]
    },
    {
      "cell_type": "code",
      "source": [
        "# 30. Write a code to convert a list of strings into a set.\n",
        "\n",
        "my_list = [\"apple\", \"banana\", \"starwberry\", \"grape\" ]\n",
        "my_set = set(my_list)\n",
        "print(\"the orignal list: \", my_list)\n",
        "print(\"the set of list: \", my_set)"
      ],
      "metadata": {
        "colab": {
          "base_uri": "https://localhost:8080/"
        },
        "id": "m2Znr3RRucwL",
        "outputId": "66052a9a-777f-4317-e63e-6cc71c01b3be"
      },
      "execution_count": 86,
      "outputs": [
        {
          "output_type": "stream",
          "name": "stdout",
          "text": [
            "the orignal list:  ['apple', 'banana', 'starwberry', 'grape']\n",
            "the set of list:  {'starwberry', 'banana', 'apple', 'grape'}\n"
          ]
        }
      ]
    },
    {
      "cell_type": "code",
      "source": [],
      "metadata": {
        "id": "nzdYhlK5wU6v"
      },
      "execution_count": null,
      "outputs": []
    }
  ]
}